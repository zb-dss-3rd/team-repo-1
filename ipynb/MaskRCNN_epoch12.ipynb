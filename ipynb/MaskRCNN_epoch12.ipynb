version https://git-lfs.github.com/spec/v1
oid sha256:9e51a2b83d810b9cfbecfa6b275d62f7e8b9d0be7812e188bd026f453ec8e9d1
size 5600256
