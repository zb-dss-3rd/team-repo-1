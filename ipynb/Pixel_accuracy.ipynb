version https://git-lfs.github.com/spec/v1
oid sha256:55d341fb0f1f3ca70ff9fbd3007c6b4218f88a2ff0b72096a9a55726ad428d1a
size 588264
